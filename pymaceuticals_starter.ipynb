{
 "cells": [
  {
   "cell_type": "markdown",
   "metadata": {},
   "source": [
    "## Observations and Insights "
   ]
  },
  {
   "cell_type": "markdown",
   "metadata": {},
   "source": []
  },
  {
   "cell_type": "code",
   "execution_count": 1,
   "metadata": {},
   "outputs": [
    {
     "data": {
      "text/html": [
       "<div>\n",
       "<style scoped>\n",
       "    .dataframe tbody tr th:only-of-type {\n",
       "        vertical-align: middle;\n",
       "    }\n",
       "\n",
       "    .dataframe tbody tr th {\n",
       "        vertical-align: top;\n",
       "    }\n",
       "\n",
       "    .dataframe thead th {\n",
       "        text-align: right;\n",
       "    }\n",
       "</style>\n",
       "<table border=\"1\" class=\"dataframe\">\n",
       "  <thead>\n",
       "    <tr style=\"text-align: right;\">\n",
       "      <th></th>\n",
       "      <th>Mouse ID</th>\n",
       "      <th>Drug Regimen</th>\n",
       "      <th>Sex</th>\n",
       "      <th>Age_months</th>\n",
       "      <th>Weight (g)</th>\n",
       "      <th>Timepoint</th>\n",
       "      <th>Tumor Volume (mm3)</th>\n",
       "      <th>Metastatic Sites</th>\n",
       "    </tr>\n",
       "  </thead>\n",
       "  <tbody>\n",
       "    <tr>\n",
       "      <th>0</th>\n",
       "      <td>k403</td>\n",
       "      <td>Ramicane</td>\n",
       "      <td>Male</td>\n",
       "      <td>21</td>\n",
       "      <td>16</td>\n",
       "      <td>0</td>\n",
       "      <td>45.000000</td>\n",
       "      <td>0</td>\n",
       "    </tr>\n",
       "    <tr>\n",
       "      <th>1</th>\n",
       "      <td>k403</td>\n",
       "      <td>Ramicane</td>\n",
       "      <td>Male</td>\n",
       "      <td>21</td>\n",
       "      <td>16</td>\n",
       "      <td>5</td>\n",
       "      <td>38.825898</td>\n",
       "      <td>0</td>\n",
       "    </tr>\n",
       "    <tr>\n",
       "      <th>2</th>\n",
       "      <td>k403</td>\n",
       "      <td>Ramicane</td>\n",
       "      <td>Male</td>\n",
       "      <td>21</td>\n",
       "      <td>16</td>\n",
       "      <td>10</td>\n",
       "      <td>35.014271</td>\n",
       "      <td>1</td>\n",
       "    </tr>\n",
       "    <tr>\n",
       "      <th>3</th>\n",
       "      <td>k403</td>\n",
       "      <td>Ramicane</td>\n",
       "      <td>Male</td>\n",
       "      <td>21</td>\n",
       "      <td>16</td>\n",
       "      <td>15</td>\n",
       "      <td>34.223992</td>\n",
       "      <td>1</td>\n",
       "    </tr>\n",
       "    <tr>\n",
       "      <th>4</th>\n",
       "      <td>k403</td>\n",
       "      <td>Ramicane</td>\n",
       "      <td>Male</td>\n",
       "      <td>21</td>\n",
       "      <td>16</td>\n",
       "      <td>20</td>\n",
       "      <td>32.997729</td>\n",
       "      <td>1</td>\n",
       "    </tr>\n",
       "  </tbody>\n",
       "</table>\n",
       "</div>"
      ],
      "text/plain": [
       "  Mouse ID Drug Regimen   Sex  Age_months  Weight (g)  Timepoint  \\\n",
       "0     k403     Ramicane  Male          21          16          0   \n",
       "1     k403     Ramicane  Male          21          16          5   \n",
       "2     k403     Ramicane  Male          21          16         10   \n",
       "3     k403     Ramicane  Male          21          16         15   \n",
       "4     k403     Ramicane  Male          21          16         20   \n",
       "\n",
       "   Tumor Volume (mm3)  Metastatic Sites  \n",
       "0           45.000000                 0  \n",
       "1           38.825898                 0  \n",
       "2           35.014271                 1  \n",
       "3           34.223992                 1  \n",
       "4           32.997729                 1  "
      ]
     },
     "execution_count": 1,
     "metadata": {},
     "output_type": "execute_result"
    }
   ],
   "source": [
    "# Dependencies and Setup\n",
    "import matplotlib.pyplot as plt\n",
    "import pandas as pd\n",
    "import scipy.stats as st\n",
    "\n",
    "# Study data files\n",
    "mouse_metadata_path = \"data/Mouse_metadata.csv\"\n",
    "study_results_path = \"data/Study_results.csv\"\n",
    "\n",
    "# Read the mouse data and the study results\n",
    "mouse_metadata = pd.read_csv(mouse_metadata_path)\n",
    "study_results = pd.read_csv(study_results_path)\n",
    "\n",
    "# Combine the data into a single dataset\n",
    "\n",
    "data_df = pd.merge(mouse_metadata, study_results, how='outer', on='Mouse ID')\n",
    "data_df.head()\n",
    "\n",
    "# Display the data table for preview\n"
   ]
  },
  {
   "cell_type": "code",
   "execution_count": 4,
   "metadata": {},
   "outputs": [
    {
     "data": {
      "text/plain": [
       "249"
      ]
     },
     "execution_count": 4,
     "metadata": {},
     "output_type": "execute_result"
    }
   ],
   "source": [
    "# Checking the number of mice.\n",
    "len(pd.unique(data_df[\"Mouse ID\"]))"
   ]
  },
  {
   "cell_type": "code",
   "execution_count": 5,
   "metadata": {},
   "outputs": [
    {
     "data": {
      "text/plain": [
       "g989    13\n",
       "l733    10\n",
       "l725    10\n",
       "a685    10\n",
       "c264    10\n",
       "        ..\n",
       "n482     1\n",
       "t573     1\n",
       "u153     1\n",
       "d133     1\n",
       "v199     1\n",
       "Name: Mouse ID, Length: 249, dtype: int64"
      ]
     },
     "execution_count": 5,
     "metadata": {},
     "output_type": "execute_result"
    }
   ],
   "source": [
    "# Getting the duplicate mice by ID number that shows up for Mouse ID and Timepoint. \n",
    "\n",
    "data_df[\"Mouse ID\"].value_counts()"
   ]
  },
  {
   "cell_type": "code",
   "execution_count": 7,
   "metadata": {},
   "outputs": [
    {
     "data": {
      "text/html": [
       "<div>\n",
       "<style scoped>\n",
       "    .dataframe tbody tr th:only-of-type {\n",
       "        vertical-align: middle;\n",
       "    }\n",
       "\n",
       "    .dataframe tbody tr th {\n",
       "        vertical-align: top;\n",
       "    }\n",
       "\n",
       "    .dataframe thead th {\n",
       "        text-align: right;\n",
       "    }\n",
       "</style>\n",
       "<table border=\"1\" class=\"dataframe\">\n",
       "  <thead>\n",
       "    <tr style=\"text-align: right;\">\n",
       "      <th></th>\n",
       "      <th>Mouse ID</th>\n",
       "      <th>Drug Regimen</th>\n",
       "      <th>Sex</th>\n",
       "      <th>Age_months</th>\n",
       "      <th>Weight (g)</th>\n",
       "      <th>Timepoint</th>\n",
       "      <th>Tumor Volume (mm3)</th>\n",
       "      <th>Metastatic Sites</th>\n",
       "    </tr>\n",
       "  </thead>\n",
       "  <tbody>\n",
       "    <tr>\n",
       "      <th>1</th>\n",
       "      <td>k403</td>\n",
       "      <td>Ramicane</td>\n",
       "      <td>Male</td>\n",
       "      <td>21</td>\n",
       "      <td>16</td>\n",
       "      <td>5</td>\n",
       "      <td>38.825898</td>\n",
       "      <td>0</td>\n",
       "    </tr>\n",
       "    <tr>\n",
       "      <th>2</th>\n",
       "      <td>k403</td>\n",
       "      <td>Ramicane</td>\n",
       "      <td>Male</td>\n",
       "      <td>21</td>\n",
       "      <td>16</td>\n",
       "      <td>10</td>\n",
       "      <td>35.014271</td>\n",
       "      <td>1</td>\n",
       "    </tr>\n",
       "    <tr>\n",
       "      <th>3</th>\n",
       "      <td>k403</td>\n",
       "      <td>Ramicane</td>\n",
       "      <td>Male</td>\n",
       "      <td>21</td>\n",
       "      <td>16</td>\n",
       "      <td>15</td>\n",
       "      <td>34.223992</td>\n",
       "      <td>1</td>\n",
       "    </tr>\n",
       "    <tr>\n",
       "      <th>4</th>\n",
       "      <td>k403</td>\n",
       "      <td>Ramicane</td>\n",
       "      <td>Male</td>\n",
       "      <td>21</td>\n",
       "      <td>16</td>\n",
       "      <td>20</td>\n",
       "      <td>32.997729</td>\n",
       "      <td>1</td>\n",
       "    </tr>\n",
       "    <tr>\n",
       "      <th>5</th>\n",
       "      <td>k403</td>\n",
       "      <td>Ramicane</td>\n",
       "      <td>Male</td>\n",
       "      <td>21</td>\n",
       "      <td>16</td>\n",
       "      <td>25</td>\n",
       "      <td>33.464577</td>\n",
       "      <td>1</td>\n",
       "    </tr>\n",
       "    <tr>\n",
       "      <th>...</th>\n",
       "      <td>...</td>\n",
       "      <td>...</td>\n",
       "      <td>...</td>\n",
       "      <td>...</td>\n",
       "      <td>...</td>\n",
       "      <td>...</td>\n",
       "      <td>...</td>\n",
       "      <td>...</td>\n",
       "    </tr>\n",
       "    <tr>\n",
       "      <th>1888</th>\n",
       "      <td>z969</td>\n",
       "      <td>Naftisol</td>\n",
       "      <td>Male</td>\n",
       "      <td>9</td>\n",
       "      <td>30</td>\n",
       "      <td>25</td>\n",
       "      <td>63.145652</td>\n",
       "      <td>2</td>\n",
       "    </tr>\n",
       "    <tr>\n",
       "      <th>1889</th>\n",
       "      <td>z969</td>\n",
       "      <td>Naftisol</td>\n",
       "      <td>Male</td>\n",
       "      <td>9</td>\n",
       "      <td>30</td>\n",
       "      <td>30</td>\n",
       "      <td>65.841013</td>\n",
       "      <td>3</td>\n",
       "    </tr>\n",
       "    <tr>\n",
       "      <th>1890</th>\n",
       "      <td>z969</td>\n",
       "      <td>Naftisol</td>\n",
       "      <td>Male</td>\n",
       "      <td>9</td>\n",
       "      <td>30</td>\n",
       "      <td>35</td>\n",
       "      <td>69.176246</td>\n",
       "      <td>4</td>\n",
       "    </tr>\n",
       "    <tr>\n",
       "      <th>1891</th>\n",
       "      <td>z969</td>\n",
       "      <td>Naftisol</td>\n",
       "      <td>Male</td>\n",
       "      <td>9</td>\n",
       "      <td>30</td>\n",
       "      <td>40</td>\n",
       "      <td>70.314904</td>\n",
       "      <td>4</td>\n",
       "    </tr>\n",
       "    <tr>\n",
       "      <th>1892</th>\n",
       "      <td>z969</td>\n",
       "      <td>Naftisol</td>\n",
       "      <td>Male</td>\n",
       "      <td>9</td>\n",
       "      <td>30</td>\n",
       "      <td>45</td>\n",
       "      <td>73.867845</td>\n",
       "      <td>4</td>\n",
       "    </tr>\n",
       "  </tbody>\n",
       "</table>\n",
       "<p>1644 rows × 8 columns</p>\n",
       "</div>"
      ],
      "text/plain": [
       "     Mouse ID Drug Regimen   Sex  Age_months  Weight (g)  Timepoint  \\\n",
       "1        k403     Ramicane  Male          21          16          5   \n",
       "2        k403     Ramicane  Male          21          16         10   \n",
       "3        k403     Ramicane  Male          21          16         15   \n",
       "4        k403     Ramicane  Male          21          16         20   \n",
       "5        k403     Ramicane  Male          21          16         25   \n",
       "...       ...          ...   ...         ...         ...        ...   \n",
       "1888     z969     Naftisol  Male           9          30         25   \n",
       "1889     z969     Naftisol  Male           9          30         30   \n",
       "1890     z969     Naftisol  Male           9          30         35   \n",
       "1891     z969     Naftisol  Male           9          30         40   \n",
       "1892     z969     Naftisol  Male           9          30         45   \n",
       "\n",
       "      Tumor Volume (mm3)  Metastatic Sites  \n",
       "1              38.825898                 0  \n",
       "2              35.014271                 1  \n",
       "3              34.223992                 1  \n",
       "4              32.997729                 1  \n",
       "5              33.464577                 1  \n",
       "...                  ...               ...  \n",
       "1888           63.145652                 2  \n",
       "1889           65.841013                 3  \n",
       "1890           69.176246                 4  \n",
       "1891           70.314904                 4  \n",
       "1892           73.867845                 4  \n",
       "\n",
       "[1644 rows x 8 columns]"
      ]
     },
     "execution_count": 7,
     "metadata": {},
     "output_type": "execute_result"
    }
   ],
   "source": [
    "# Optional: Get all the data for the duplicate mouse ID. \n",
    "\n",
    "duplicate = data_df[data_df.duplicated(\"Mouse ID\")]\n",
    "duplicate"
   ]
  },
  {
   "cell_type": "code",
   "execution_count": 8,
   "metadata": {},
   "outputs": [
    {
     "data": {
      "text/html": [
       "<div>\n",
       "<style scoped>\n",
       "    .dataframe tbody tr th:only-of-type {\n",
       "        vertical-align: middle;\n",
       "    }\n",
       "\n",
       "    .dataframe tbody tr th {\n",
       "        vertical-align: top;\n",
       "    }\n",
       "\n",
       "    .dataframe thead th {\n",
       "        text-align: right;\n",
       "    }\n",
       "</style>\n",
       "<table border=\"1\" class=\"dataframe\">\n",
       "  <thead>\n",
       "    <tr style=\"text-align: right;\">\n",
       "      <th></th>\n",
       "      <th>Mouse ID</th>\n",
       "      <th>Drug Regimen</th>\n",
       "      <th>Sex</th>\n",
       "      <th>Age_months</th>\n",
       "      <th>Weight (g)</th>\n",
       "      <th>Timepoint</th>\n",
       "      <th>Tumor Volume (mm3)</th>\n",
       "      <th>Metastatic Sites</th>\n",
       "    </tr>\n",
       "  </thead>\n",
       "  <tbody>\n",
       "    <tr>\n",
       "      <th>9</th>\n",
       "      <td>k403</td>\n",
       "      <td>Ramicane</td>\n",
       "      <td>Male</td>\n",
       "      <td>21</td>\n",
       "      <td>16</td>\n",
       "      <td>45</td>\n",
       "      <td>22.050126</td>\n",
       "      <td>1</td>\n",
       "    </tr>\n",
       "    <tr>\n",
       "      <th>19</th>\n",
       "      <td>s185</td>\n",
       "      <td>Capomulin</td>\n",
       "      <td>Female</td>\n",
       "      <td>3</td>\n",
       "      <td>17</td>\n",
       "      <td>45</td>\n",
       "      <td>23.343598</td>\n",
       "      <td>1</td>\n",
       "    </tr>\n",
       "    <tr>\n",
       "      <th>29</th>\n",
       "      <td>x401</td>\n",
       "      <td>Capomulin</td>\n",
       "      <td>Female</td>\n",
       "      <td>16</td>\n",
       "      <td>15</td>\n",
       "      <td>45</td>\n",
       "      <td>28.484033</td>\n",
       "      <td>0</td>\n",
       "    </tr>\n",
       "    <tr>\n",
       "      <th>39</th>\n",
       "      <td>m601</td>\n",
       "      <td>Capomulin</td>\n",
       "      <td>Male</td>\n",
       "      <td>22</td>\n",
       "      <td>17</td>\n",
       "      <td>45</td>\n",
       "      <td>28.430964</td>\n",
       "      <td>1</td>\n",
       "    </tr>\n",
       "    <tr>\n",
       "      <th>49</th>\n",
       "      <td>g791</td>\n",
       "      <td>Ramicane</td>\n",
       "      <td>Male</td>\n",
       "      <td>11</td>\n",
       "      <td>16</td>\n",
       "      <td>45</td>\n",
       "      <td>29.128472</td>\n",
       "      <td>1</td>\n",
       "    </tr>\n",
       "    <tr>\n",
       "      <th>...</th>\n",
       "      <td>...</td>\n",
       "      <td>...</td>\n",
       "      <td>...</td>\n",
       "      <td>...</td>\n",
       "      <td>...</td>\n",
       "      <td>...</td>\n",
       "      <td>...</td>\n",
       "      <td>...</td>\n",
       "    </tr>\n",
       "    <tr>\n",
       "      <th>1859</th>\n",
       "      <td>z314</td>\n",
       "      <td>Stelasyn</td>\n",
       "      <td>Female</td>\n",
       "      <td>21</td>\n",
       "      <td>28</td>\n",
       "      <td>5</td>\n",
       "      <td>45.934712</td>\n",
       "      <td>0</td>\n",
       "    </tr>\n",
       "    <tr>\n",
       "      <th>1862</th>\n",
       "      <td>z435</td>\n",
       "      <td>Propriva</td>\n",
       "      <td>Female</td>\n",
       "      <td>12</td>\n",
       "      <td>26</td>\n",
       "      <td>10</td>\n",
       "      <td>48.710661</td>\n",
       "      <td>0</td>\n",
       "    </tr>\n",
       "    <tr>\n",
       "      <th>1872</th>\n",
       "      <td>z581</td>\n",
       "      <td>Infubinol</td>\n",
       "      <td>Female</td>\n",
       "      <td>24</td>\n",
       "      <td>25</td>\n",
       "      <td>45</td>\n",
       "      <td>62.754451</td>\n",
       "      <td>3</td>\n",
       "    </tr>\n",
       "    <tr>\n",
       "      <th>1882</th>\n",
       "      <td>z795</td>\n",
       "      <td>Naftisol</td>\n",
       "      <td>Female</td>\n",
       "      <td>13</td>\n",
       "      <td>29</td>\n",
       "      <td>45</td>\n",
       "      <td>65.741070</td>\n",
       "      <td>3</td>\n",
       "    </tr>\n",
       "    <tr>\n",
       "      <th>1892</th>\n",
       "      <td>z969</td>\n",
       "      <td>Naftisol</td>\n",
       "      <td>Male</td>\n",
       "      <td>9</td>\n",
       "      <td>30</td>\n",
       "      <td>45</td>\n",
       "      <td>73.867845</td>\n",
       "      <td>4</td>\n",
       "    </tr>\n",
       "  </tbody>\n",
       "</table>\n",
       "<p>249 rows × 8 columns</p>\n",
       "</div>"
      ],
      "text/plain": [
       "     Mouse ID Drug Regimen     Sex  Age_months  Weight (g)  Timepoint  \\\n",
       "9        k403     Ramicane    Male          21          16         45   \n",
       "19       s185    Capomulin  Female           3          17         45   \n",
       "29       x401    Capomulin  Female          16          15         45   \n",
       "39       m601    Capomulin    Male          22          17         45   \n",
       "49       g791     Ramicane    Male          11          16         45   \n",
       "...       ...          ...     ...         ...         ...        ...   \n",
       "1859     z314     Stelasyn  Female          21          28          5   \n",
       "1862     z435     Propriva  Female          12          26         10   \n",
       "1872     z581    Infubinol  Female          24          25         45   \n",
       "1882     z795     Naftisol  Female          13          29         45   \n",
       "1892     z969     Naftisol    Male           9          30         45   \n",
       "\n",
       "      Tumor Volume (mm3)  Metastatic Sites  \n",
       "9              22.050126                 1  \n",
       "19             23.343598                 1  \n",
       "29             28.484033                 0  \n",
       "39             28.430964                 1  \n",
       "49             29.128472                 1  \n",
       "...                  ...               ...  \n",
       "1859           45.934712                 0  \n",
       "1862           48.710661                 0  \n",
       "1872           62.754451                 3  \n",
       "1882           65.741070                 3  \n",
       "1892           73.867845                 4  \n",
       "\n",
       "[249 rows x 8 columns]"
      ]
     },
     "execution_count": 8,
     "metadata": {},
     "output_type": "execute_result"
    }
   ],
   "source": [
    "# Create a clean DataFrame by dropping the duplicate mouse by its ID.\n",
    "clean = data_df.drop_duplicates(subset=[\"Mouse ID\"], keep= \"last\")\n",
    "clean"
   ]
  },
  {
   "cell_type": "code",
   "execution_count": 9,
   "metadata": {},
   "outputs": [
    {
     "data": {
      "text/plain": [
       "249"
      ]
     },
     "execution_count": 9,
     "metadata": {},
     "output_type": "execute_result"
    }
   ],
   "source": [
    "# Checking the number of mice in the clean DataFrame.\n",
    "len(pd.unique(clean[\"Mouse ID\"]))\n"
   ]
  },
  {
   "cell_type": "markdown",
   "metadata": {},
   "source": [
    "## Summary Statistics"
   ]
  },
  {
   "cell_type": "code",
   "execution_count": 10,
   "metadata": {},
   "outputs": [
    {
     "data": {
      "text/html": [
       "<style  type=\"text/css\" >\n",
       "</style><table id=\"T_abd79_\" ><caption>Tumor Volume Stats per Drug Regimen</caption><thead>    <tr>        <th class=\"blank level0\" ></th>        <th class=\"col_heading level0 col0\" >Mean</th>        <th class=\"col_heading level0 col1\" >Median</th>        <th class=\"col_heading level0 col2\" >Variance</th>        <th class=\"col_heading level0 col3\" >Standard Deviation</th>        <th class=\"col_heading level0 col4\" >SEM</th>    </tr></thead><tbody>\n",
       "                <tr>\n",
       "                        <th id=\"T_abd79_level0_row0\" class=\"row_heading level0 row0\" >Capomulin</th>\n",
       "                        <td id=\"T_abd79_row0_col0\" class=\"data row0 col0\" >36.667568</td>\n",
       "                        <td id=\"T_abd79_row0_col1\" class=\"data row0 col1\" >38.125164</td>\n",
       "                        <td id=\"T_abd79_row0_col2\" class=\"data row0 col2\" >32.663378</td>\n",
       "                        <td id=\"T_abd79_row0_col3\" class=\"data row0 col3\" >5.715188</td>\n",
       "                        <td id=\"T_abd79_row0_col4\" class=\"data row0 col4\" >1.143038</td>\n",
       "            </tr>\n",
       "            <tr>\n",
       "                        <th id=\"T_abd79_level0_row1\" class=\"row_heading level0 row1\" >Ceftamin</th>\n",
       "                        <td id=\"T_abd79_row1_col0\" class=\"data row1 col0\" >57.753977</td>\n",
       "                        <td id=\"T_abd79_row1_col1\" class=\"data row1 col1\" >59.851956</td>\n",
       "                        <td id=\"T_abd79_row1_col2\" class=\"data row1 col2\" >69.982735</td>\n",
       "                        <td id=\"T_abd79_row1_col3\" class=\"data row1 col3\" >8.365568</td>\n",
       "                        <td id=\"T_abd79_row1_col4\" class=\"data row1 col4\" >1.673114</td>\n",
       "            </tr>\n",
       "            <tr>\n",
       "                        <th id=\"T_abd79_level0_row2\" class=\"row_heading level0 row2\" >Infubinol</th>\n",
       "                        <td id=\"T_abd79_row2_col0\" class=\"data row2 col0\" >58.178246</td>\n",
       "                        <td id=\"T_abd79_row2_col1\" class=\"data row2 col1\" >60.165180</td>\n",
       "                        <td id=\"T_abd79_row2_col2\" class=\"data row2 col2\" >74.010875</td>\n",
       "                        <td id=\"T_abd79_row2_col3\" class=\"data row2 col3\" >8.602957</td>\n",
       "                        <td id=\"T_abd79_row2_col4\" class=\"data row2 col4\" >1.720591</td>\n",
       "            </tr>\n",
       "            <tr>\n",
       "                        <th id=\"T_abd79_level0_row3\" class=\"row_heading level0 row3\" >Ketapril</th>\n",
       "                        <td id=\"T_abd79_row3_col0\" class=\"data row3 col0\" >62.806191</td>\n",
       "                        <td id=\"T_abd79_row3_col1\" class=\"data row3 col1\" >64.487812</td>\n",
       "                        <td id=\"T_abd79_row3_col2\" class=\"data row3 col2\" >98.921330</td>\n",
       "                        <td id=\"T_abd79_row3_col3\" class=\"data row3 col3\" >9.945920</td>\n",
       "                        <td id=\"T_abd79_row3_col4\" class=\"data row3 col4\" >1.989184</td>\n",
       "            </tr>\n",
       "            <tr>\n",
       "                        <th id=\"T_abd79_level0_row4\" class=\"row_heading level0 row4\" >Naftisol</th>\n",
       "                        <td id=\"T_abd79_row4_col0\" class=\"data row4 col0\" >61.205757</td>\n",
       "                        <td id=\"T_abd79_row4_col1\" class=\"data row4 col1\" >63.283288</td>\n",
       "                        <td id=\"T_abd79_row4_col2\" class=\"data row4 col2\" >106.029927</td>\n",
       "                        <td id=\"T_abd79_row4_col3\" class=\"data row4 col3\" >10.297083</td>\n",
       "                        <td id=\"T_abd79_row4_col4\" class=\"data row4 col4\" >2.059417</td>\n",
       "            </tr>\n",
       "            <tr>\n",
       "                        <th id=\"T_abd79_level0_row5\" class=\"row_heading level0 row5\" >Placebo</th>\n",
       "                        <td id=\"T_abd79_row5_col0\" class=\"data row5 col0\" >60.508414</td>\n",
       "                        <td id=\"T_abd79_row5_col1\" class=\"data row5 col1\" >62.030594</td>\n",
       "                        <td id=\"T_abd79_row5_col2\" class=\"data row5 col2\" >78.759797</td>\n",
       "                        <td id=\"T_abd79_row5_col3\" class=\"data row5 col3\" >8.874672</td>\n",
       "                        <td id=\"T_abd79_row5_col4\" class=\"data row5 col4\" >1.774934</td>\n",
       "            </tr>\n",
       "            <tr>\n",
       "                        <th id=\"T_abd79_level0_row6\" class=\"row_heading level0 row6\" >Propriva</th>\n",
       "                        <td id=\"T_abd79_row6_col0\" class=\"data row6 col0\" >56.736964</td>\n",
       "                        <td id=\"T_abd79_row6_col1\" class=\"data row6 col1\" >55.841410</td>\n",
       "                        <td id=\"T_abd79_row6_col2\" class=\"data row6 col2\" >69.349002</td>\n",
       "                        <td id=\"T_abd79_row6_col3\" class=\"data row6 col3\" >8.327605</td>\n",
       "                        <td id=\"T_abd79_row6_col4\" class=\"data row6 col4\" >1.665521</td>\n",
       "            </tr>\n",
       "            <tr>\n",
       "                        <th id=\"T_abd79_level0_row7\" class=\"row_heading level0 row7\" >Ramicane</th>\n",
       "                        <td id=\"T_abd79_row7_col0\" class=\"data row7 col0\" >36.191390</td>\n",
       "                        <td id=\"T_abd79_row7_col1\" class=\"data row7 col1\" >36.561652</td>\n",
       "                        <td id=\"T_abd79_row7_col2\" class=\"data row7 col2\" >32.166354</td>\n",
       "                        <td id=\"T_abd79_row7_col3\" class=\"data row7 col3\" >5.671539</td>\n",
       "                        <td id=\"T_abd79_row7_col4\" class=\"data row7 col4\" >1.134308</td>\n",
       "            </tr>\n",
       "            <tr>\n",
       "                        <th id=\"T_abd79_level0_row8\" class=\"row_heading level0 row8\" >Stelasyn</th>\n",
       "                        <td id=\"T_abd79_row8_col0\" class=\"data row8 col0\" >61.001707</td>\n",
       "                        <td id=\"T_abd79_row8_col1\" class=\"data row8 col1\" >62.192350</td>\n",
       "                        <td id=\"T_abd79_row8_col2\" class=\"data row8 col2\" >90.331586</td>\n",
       "                        <td id=\"T_abd79_row8_col3\" class=\"data row8 col3\" >9.504293</td>\n",
       "                        <td id=\"T_abd79_row8_col4\" class=\"data row8 col4\" >1.940056</td>\n",
       "            </tr>\n",
       "            <tr>\n",
       "                        <th id=\"T_abd79_level0_row9\" class=\"row_heading level0 row9\" >Zoniferol</th>\n",
       "                        <td id=\"T_abd79_row9_col0\" class=\"data row9 col0\" >59.181258</td>\n",
       "                        <td id=\"T_abd79_row9_col1\" class=\"data row9 col1\" >61.840058</td>\n",
       "                        <td id=\"T_abd79_row9_col2\" class=\"data row9 col2\" >76.862027</td>\n",
       "                        <td id=\"T_abd79_row9_col3\" class=\"data row9 col3\" >8.767099</td>\n",
       "                        <td id=\"T_abd79_row9_col4\" class=\"data row9 col4\" >1.753420</td>\n",
       "            </tr>\n",
       "    </tbody></table>"
      ],
      "text/plain": [
       "<pandas.io.formats.style.Styler at 0x7f8ba6e986a0>"
      ]
     },
     "execution_count": 10,
     "metadata": {},
     "output_type": "execute_result"
    }
   ],
   "source": [
    "# Generate a summary statistics table of mean, median, variance, standard deviation, and SEM of the tumor volume for each regimen\n",
    "\n",
    "# Use groupby and summary statistical methods to calculate the following properties of each drug regimen: \n",
    "# mean, median, variance, standard deviation, and SEM of the tumor volume. \n",
    "# Assemble the resulting series into a single summary dataframe.\n",
    "\n",
    "Mean = clean.groupby(\"Drug Regimen\").mean()[\"Tumor Volume (mm3)\"]\n",
    "Median = clean.groupby(\"Drug Regimen\").median()[\"Tumor Volume (mm3)\"]\n",
    "Variance = clean.groupby(\"Drug Regimen\").var()[\"Tumor Volume (mm3)\"]\n",
    "Standard_Deviation = clean.groupby(\"Drug Regimen\").std()[\"Tumor Volume (mm3)\"]\n",
    "SEM = clean.groupby(\"Drug Regimen\").sem()[\"Tumor Volume (mm3)\"]\n",
    "drug_index = sorted(pd.unique(clean[\"Drug Regimen\"]))\n",
    "drug_summary = {\"Mean\": Mean, \"Median\": Median, \"Variance\": Variance, \"Standard Deviation\": Standard_Deviation,\n",
    "               \"SEM\": SEM}\n",
    "drug_summary_df = pd.DataFrame(data=drug_summary, index=drug_index)\n",
    "drug_summary_df = drug_summary_df.style.set_caption(\"Tumor Volume Stats per Drug Regimen\")\n",
    "drug_summary_df"
   ]
  },
  {
   "cell_type": "code",
   "execution_count": 11,
   "metadata": {},
   "outputs": [
    {
     "data": {
      "text/html": [
       "<style  type=\"text/css\" >\n",
       "</style><table id=\"T_c3227_\" ><caption>Tumor Volume Stats per Drug Regimen</caption><thead>    <tr>        <th class=\"blank level0\" ></th>        <th class=\"col_heading level0 col0\" >Mean</th>        <th class=\"col_heading level0 col1\" >Median</th>        <th class=\"col_heading level0 col2\" >Variance</th>        <th class=\"col_heading level0 col3\" >Standard Deviation</th>        <th class=\"col_heading level0 col4\" >SEM</th>    </tr>    <tr>        <th class=\"index_name level0\" >Drug Regimen</th>        <th class=\"blank\" ></th>        <th class=\"blank\" ></th>        <th class=\"blank\" ></th>        <th class=\"blank\" ></th>        <th class=\"blank\" ></th>    </tr></thead><tbody>\n",
       "                <tr>\n",
       "                        <th id=\"T_c3227_level0_row0\" class=\"row_heading level0 row0\" >Capomulin</th>\n",
       "                        <td id=\"T_c3227_row0_col0\" class=\"data row0 col0\" >36.667568</td>\n",
       "                        <td id=\"T_c3227_row0_col1\" class=\"data row0 col1\" >38.125164</td>\n",
       "                        <td id=\"T_c3227_row0_col2\" class=\"data row0 col2\" >32.663378</td>\n",
       "                        <td id=\"T_c3227_row0_col3\" class=\"data row0 col3\" >5.715188</td>\n",
       "                        <td id=\"T_c3227_row0_col4\" class=\"data row0 col4\" >1.143038</td>\n",
       "            </tr>\n",
       "            <tr>\n",
       "                        <th id=\"T_c3227_level0_row1\" class=\"row_heading level0 row1\" >Ceftamin</th>\n",
       "                        <td id=\"T_c3227_row1_col0\" class=\"data row1 col0\" >57.753977</td>\n",
       "                        <td id=\"T_c3227_row1_col1\" class=\"data row1 col1\" >59.851956</td>\n",
       "                        <td id=\"T_c3227_row1_col2\" class=\"data row1 col2\" >69.982735</td>\n",
       "                        <td id=\"T_c3227_row1_col3\" class=\"data row1 col3\" >8.365568</td>\n",
       "                        <td id=\"T_c3227_row1_col4\" class=\"data row1 col4\" >1.673114</td>\n",
       "            </tr>\n",
       "            <tr>\n",
       "                        <th id=\"T_c3227_level0_row2\" class=\"row_heading level0 row2\" >Infubinol</th>\n",
       "                        <td id=\"T_c3227_row2_col0\" class=\"data row2 col0\" >58.178246</td>\n",
       "                        <td id=\"T_c3227_row2_col1\" class=\"data row2 col1\" >60.165180</td>\n",
       "                        <td id=\"T_c3227_row2_col2\" class=\"data row2 col2\" >74.010875</td>\n",
       "                        <td id=\"T_c3227_row2_col3\" class=\"data row2 col3\" >8.602957</td>\n",
       "                        <td id=\"T_c3227_row2_col4\" class=\"data row2 col4\" >1.720591</td>\n",
       "            </tr>\n",
       "            <tr>\n",
       "                        <th id=\"T_c3227_level0_row3\" class=\"row_heading level0 row3\" >Ketapril</th>\n",
       "                        <td id=\"T_c3227_row3_col0\" class=\"data row3 col0\" >62.806191</td>\n",
       "                        <td id=\"T_c3227_row3_col1\" class=\"data row3 col1\" >64.487812</td>\n",
       "                        <td id=\"T_c3227_row3_col2\" class=\"data row3 col2\" >98.921330</td>\n",
       "                        <td id=\"T_c3227_row3_col3\" class=\"data row3 col3\" >9.945920</td>\n",
       "                        <td id=\"T_c3227_row3_col4\" class=\"data row3 col4\" >1.989184</td>\n",
       "            </tr>\n",
       "            <tr>\n",
       "                        <th id=\"T_c3227_level0_row4\" class=\"row_heading level0 row4\" >Naftisol</th>\n",
       "                        <td id=\"T_c3227_row4_col0\" class=\"data row4 col0\" >61.205757</td>\n",
       "                        <td id=\"T_c3227_row4_col1\" class=\"data row4 col1\" >63.283288</td>\n",
       "                        <td id=\"T_c3227_row4_col2\" class=\"data row4 col2\" >106.029927</td>\n",
       "                        <td id=\"T_c3227_row4_col3\" class=\"data row4 col3\" >10.297083</td>\n",
       "                        <td id=\"T_c3227_row4_col4\" class=\"data row4 col4\" >2.059417</td>\n",
       "            </tr>\n",
       "            <tr>\n",
       "                        <th id=\"T_c3227_level0_row5\" class=\"row_heading level0 row5\" >Placebo</th>\n",
       "                        <td id=\"T_c3227_row5_col0\" class=\"data row5 col0\" >60.508414</td>\n",
       "                        <td id=\"T_c3227_row5_col1\" class=\"data row5 col1\" >62.030594</td>\n",
       "                        <td id=\"T_c3227_row5_col2\" class=\"data row5 col2\" >78.759797</td>\n",
       "                        <td id=\"T_c3227_row5_col3\" class=\"data row5 col3\" >8.874672</td>\n",
       "                        <td id=\"T_c3227_row5_col4\" class=\"data row5 col4\" >1.774934</td>\n",
       "            </tr>\n",
       "            <tr>\n",
       "                        <th id=\"T_c3227_level0_row6\" class=\"row_heading level0 row6\" >Propriva</th>\n",
       "                        <td id=\"T_c3227_row6_col0\" class=\"data row6 col0\" >56.736964</td>\n",
       "                        <td id=\"T_c3227_row6_col1\" class=\"data row6 col1\" >55.841410</td>\n",
       "                        <td id=\"T_c3227_row6_col2\" class=\"data row6 col2\" >69.349002</td>\n",
       "                        <td id=\"T_c3227_row6_col3\" class=\"data row6 col3\" >8.327605</td>\n",
       "                        <td id=\"T_c3227_row6_col4\" class=\"data row6 col4\" >1.665521</td>\n",
       "            </tr>\n",
       "            <tr>\n",
       "                        <th id=\"T_c3227_level0_row7\" class=\"row_heading level0 row7\" >Ramicane</th>\n",
       "                        <td id=\"T_c3227_row7_col0\" class=\"data row7 col0\" >36.191390</td>\n",
       "                        <td id=\"T_c3227_row7_col1\" class=\"data row7 col1\" >36.561652</td>\n",
       "                        <td id=\"T_c3227_row7_col2\" class=\"data row7 col2\" >32.166354</td>\n",
       "                        <td id=\"T_c3227_row7_col3\" class=\"data row7 col3\" >5.671539</td>\n",
       "                        <td id=\"T_c3227_row7_col4\" class=\"data row7 col4\" >1.134308</td>\n",
       "            </tr>\n",
       "            <tr>\n",
       "                        <th id=\"T_c3227_level0_row8\" class=\"row_heading level0 row8\" >Stelasyn</th>\n",
       "                        <td id=\"T_c3227_row8_col0\" class=\"data row8 col0\" >61.001707</td>\n",
       "                        <td id=\"T_c3227_row8_col1\" class=\"data row8 col1\" >62.192350</td>\n",
       "                        <td id=\"T_c3227_row8_col2\" class=\"data row8 col2\" >90.331586</td>\n",
       "                        <td id=\"T_c3227_row8_col3\" class=\"data row8 col3\" >9.504293</td>\n",
       "                        <td id=\"T_c3227_row8_col4\" class=\"data row8 col4\" >1.940056</td>\n",
       "            </tr>\n",
       "            <tr>\n",
       "                        <th id=\"T_c3227_level0_row9\" class=\"row_heading level0 row9\" >Zoniferol</th>\n",
       "                        <td id=\"T_c3227_row9_col0\" class=\"data row9 col0\" >59.181258</td>\n",
       "                        <td id=\"T_c3227_row9_col1\" class=\"data row9 col1\" >61.840058</td>\n",
       "                        <td id=\"T_c3227_row9_col2\" class=\"data row9 col2\" >76.862027</td>\n",
       "                        <td id=\"T_c3227_row9_col3\" class=\"data row9 col3\" >8.767099</td>\n",
       "                        <td id=\"T_c3227_row9_col4\" class=\"data row9 col4\" >1.753420</td>\n",
       "            </tr>\n",
       "    </tbody></table>"
      ],
      "text/plain": [
       "<pandas.io.formats.style.Styler at 0x7f8ba9ef2310>"
      ]
     },
     "execution_count": 11,
     "metadata": {},
     "output_type": "execute_result"
    }
   ],
   "source": [
    "# Generate a summary statistics table of mean, median, variance, standard deviation, and SEM of the tumor volume for each regimen\n",
    "\n",
    "# Using the aggregation method, produce the same summary statistics in a single line\n",
    "\n",
    "summary_by_regimen = clean[[\"Drug Regimen\",\"Tumor Volume (mm3)\",\"Tumor Volume (mm3)\",\"Tumor Volume (mm3)\",\"Tumor Volume (mm3)\",\"Tumor Volume (mm3)\"]]\n",
    "summary_by_regimen.columns=[\"Drug Regimen\", \"Mean\",\"Median\",\"Variance\",\"Standard Deviation\",\"SEM\"]\n",
    "table = summary_by_regimen.groupby(\"Drug Regimen\").agg({\"Mean\":\"mean\",\n",
    "                                                        \"Median\":\"median\",\n",
    "                                                        \"Variance\":\"var\",\n",
    "                                                        \"Standard Deviation\":\"std\",\n",
    "                                                        \"SEM\":\"sem\"})\n",
    "table = table.style.set_caption(\"Tumor Volume Stats per Drug Regimen\")\n",
    "table"
   ]
  },
  {
   "cell_type": "markdown",
   "metadata": {},
   "source": [
    "## Bar and Pie Charts"
   ]
  },
  {
   "cell_type": "code",
   "execution_count": 12,
   "metadata": {},
   "outputs": [
    {
     "data": {
      "image/png": "[encoded data removed]",
      "text/plain": [
       "<Figure size 432x288 with 1 Axes>"
      ]
     },
     "metadata": {
      "needs_background": "light"
     },
     "output_type": "display_data"
    }
   ],
   "source": [
    "# Generate a bar plot showing the total number of timepoints for all mice tested for each drug regimen using Pandas.\n",
    "\n",
    "data_df.groupby(\"Drug Regimen\")[\"Timepoint\"].count().plot(kind=\"bar\",ylabel=\"Number of Timepoints\",\n",
    "                                                                title=\"Total Timepoints per Drug Regimen\")\n",
    "plt.show()"
   ]
  },
  {
   "cell_type": "code",
   "execution_count": 13,
   "metadata": {},
   "outputs": [
    {
     "data": {
      "image/png": "[encoded data removed]",
      "text/plain": [
       "<Figure size 432x288 with 1 Axes>"
      ]
     },
     "metadata": {
      "needs_background": "light"
     },
     "output_type": "display_data"
    }
   ],
   "source": [
    "# Generate a bar plot showing the total number of timepoints for all mice tested for each drug regimen using pyplot.\n",
    "\n",
    "plt.bar(sorted(pd.unique(data_df[\"Drug Regimen\"])),data_df.groupby(\"Drug Regimen\")[\"Timepoint\"].count())\n",
    "plt.xticks(rotation=90)\n",
    "plt.title(\"Total Timepoints per Drug Regimen\")\n",
    "plt.xlabel(\"Drug Regimen\")\n",
    "plt.ylabel(\"Number of Time points\")\n",
    "plt.show()"
   ]
  },
  {
   "cell_type": "code",
   "execution_count": 18,
   "metadata": {},
   "outputs": [
    {
     "data": {
      "image/png": "[encoded data removed]",
      "text/plain": [
       "<Figure size 432x288 with 1 Axes>"
      ]
     },
     "metadata": {},
     "output_type": "display_data"
    }
   ],
   "source": [
    "# Generate a pie plot showing the distribution of female versus male mice using Pandas\n",
    "clean.Sex.value_counts().plot(kind=\"pie\")\n",
    "plt.title(\"Distribution of Mice Gender\")\n",
    "plt.show()"
   ]
  },
  {
   "cell_type": "code",
   "execution_count": 19,
   "metadata": {},
   "outputs": [
    {
     "data": {
      "image/png": "[encoded data removed]",
      "text/plain": [
       "<Figure size 432x288 with 1 Axes>"
      ]
     },
     "metadata": {},
     "output_type": "display_data"
    }
   ],
   "source": [
    "# Generate a pie plot showing the distribution of female versus male mice using pyplot\n",
    "\n",
    "plt.pie(clean.Sex.value_counts(), labels=[\"Male\", \"Female\"])\n",
    "plt.ylabel(\"Sex\")#Title to match pandas\n",
    "plt.title(\"Distribution of Mice Gender\")\n",
    "plt.show()"
   ]
  },
  {
   "cell_type": "markdown",
   "metadata": {},
   "source": [
    "## Quartiles, Outliers and Boxplots"
   ]
  },
  {
   "cell_type": "code",
   "execution_count": 20,
   "metadata": {},
   "outputs": [],
   "source": [
    "# Calculate the final tumor volume of each mouse across four of the treatment regimens:  \n",
    "# Capomulin, Ramicane, Infubinol, and Ceftamin\n",
    "# Start by getting the last (greatest) timepoint for each mouse\n",
    "# Merge this group df with the original dataframe to get the tumor volume at the last timepoint\n",
    "\n",
    "reduced_clean = clean[~clean['Drug Regimen'].isin([\"Propriva\",\"Naftisol\",\"Ketapril\",\"Zoniferol\",\"Placebo\",\"Stelasyn\"])]\n"
   ]
  },
  {
   "cell_type": "code",
   "execution_count": 21,
   "metadata": {},
   "outputs": [
    {
     "name": "stdout",
     "output_type": "stream",
     "text": [
      "lowerq 37.1877438025 \n",
      "upperq 59.930261755 \n",
      "iqr 22.742517952499995\n",
      "lower bound 3.0739668737500097\n",
      "upper bound 94.04403868374999\n"
     ]
    }
   ],
   "source": [
    "# Put treatments into a list for for loop (and later for plot labels)\n",
    "\n",
    "drug_list = [\"Capomulin\", \"Ramicane\", \"Infubinol\", \"Ceftamin\"]\n",
    "\n",
    "# Create empty list to fill with tumor vol data (for plotting)\n",
    "\n",
    "tumor_vol = []\n",
    "\n",
    "\n",
    "# Calculate the IQR and quantitatively determine if there are any potential outliers. \n",
    "\n",
    "lowerq = reduced_clean[\"Tumor Volume (mm3)\"].quantile(.25)\n",
    "upperq = reduced_clean[\"Tumor Volume (mm3)\"].quantile(.75)\n",
    "iqr = upperq-lowerq\n",
    "print(f\"lowerq {lowerq} \\nupperq {upperq} \\niqr {iqr}\")\n",
    "\n",
    "    # Locate the rows which contain mice on each drug and get the tumor volumes\n",
    "    \n",
    "    \n",
    "    # add subset \n",
    "for drug in drug_list:\n",
    "    drug_name = reduced_clean[reduced_clean[\"Drug Regimen\"] == drug]\n",
    "    value = [x for x in drug_name[\"Tumor Volume (mm3)\"]]\n",
    "    tumor_vol.append(value)    \n",
    "    \n",
    "    # Determine outliers using upper and lower bounds\n",
    "lower_bound = lowerq - (1.5*iqr)\n",
    "upper_bound = upperq + (1.5*iqr)\n",
    "print(f\"lower bound {lower_bound}\\nupper bound {upper_bound}\")    "
   ]
  },
  {
   "cell_type": "code",
   "execution_count": 23,
   "metadata": {},
   "outputs": [
    {
     "data": {
      "image/png": "[encoded data removed]",
      "text/plain": [
       "<Figure size 432x288 with 1 Axes>"
      ]
     },
     "metadata": {
      "needs_background": "light"
     },
     "output_type": "display_data"
    }
   ],
   "source": [
    "# Generate a box plot of the final tumor volume of each mouse across four regimens of interest\n",
    "\n",
    "box_plots = {}\n",
    "for x in range(0,4):\n",
    "    box_plots[drug_list[x]]=tumor_vol[x]\n",
    "    \n",
    "fig, ax = plt.subplots()\n",
    "ax.boxplot(box_plots.values(), sym='b+')\n",
    "ax.set_xticklabels(box_plots.keys())\n",
    "plt.title(\"Final Tumor Volumes\")\n",
    "plt.ylabel(\"Tumor Volume\")\n",
    "plt.xlabel(\"Drug Regimen\")\n",
    "plt.show()"
   ]
  },
  {
   "cell_type": "markdown",
   "metadata": {},
   "source": [
    "## Line and Scatter Plots"
   ]
  },
  {
   "cell_type": "code",
   "execution_count": 26,
   "metadata": {},
   "outputs": [
    {
     "data": {
      "image/png": "[encoded data removed]",
      "text/plain": [
       "<Figure size 432x288 with 1 Axes>"
      ]
     },
     "metadata": {
      "needs_background": "light"
     },
     "output_type": "display_data"
    }
   ],
   "source": [
    "# Generate a line plot of tumor volume vs. time point for a mouse treated with Capomulin\n",
    "mouse = data_df[data_df[\"Mouse ID\"] == \"u364\"]\n",
    "plt.plot(mouse[\"Timepoint\"],mouse[\"Tumor Volume (mm3)\"])\n",
    "plt.title(\"Mouse u364's Tumor Vol. vs Timepoints\")\n",
    "plt.ylabel(\"Tumor Size\")\n",
    "plt.xlabel(\"Timepoint\")\n",
    "plt.show()"
   ]
  },
  {
   "cell_type": "code",
   "execution_count": 27,
   "metadata": {},
   "outputs": [
    {
     "data": {
      "image/png": "[encoded data removed]",
      "text/plain": [
       "<Figure size 432x288 with 1 Axes>"
      ]
     },
     "metadata": {
      "needs_background": "light"
     },
     "output_type": "display_data"
    }
   ],
   "source": [
    "# Generate a scatter plot of average tumor volume vs. mouse weight for the Capomulin regimen\n",
    "capomulin = reduced_clean[reduced_clean[\"Drug Regimen\"] == \"Capomulin\"]\n",
    "plt.scatter(capomulin[\"Tumor Volume (mm3)\"],capomulin[\"Weight (g)\"])\n",
    "plt.title(\"Tumor Volume vs Mouse Weight\")\n",
    "plt.xlabel(\"Tumor Volume\")\n",
    "plt.ylabel(\"Weight\")\n",
    "plt.show()"
   ]
  },
  {
   "cell_type": "markdown",
   "metadata": {},
   "source": [
    "## Correlation and Regression"
   ]
  },
  {
   "cell_type": "code",
   "execution_count": 28,
   "metadata": {},
   "outputs": [
    {
     "data": {
      "image/png": "[encoded data removed]",
      "text/plain": [
       "<Figure size 432x288 with 1 Axes>"
      ]
     },
     "metadata": {
      "needs_background": "light"
     },
     "output_type": "display_data"
    }
   ],
   "source": [
    "# Calculate the correlation coefficient and linear regression model \n",
    "# for mouse weight and average tumor volume for the Capomulin regimen\n",
    "correlation_coefficient = st.pearsonr(capomulin[\"Tumor Volume (mm3)\"],capomulin[\"Weight (g)\"])[0]\n",
    "cap_slope, cap_int, cap_r, cap_p, cap_std_err = st.linregress(capomulin[\"Tumor Volume (mm3)\"],capomulin[\"Weight (g)\"])\n",
    "cap_fit = cap_slope * capomulin[\"Tumor Volume (mm3)\"] + cap_int\n",
    "plt.scatter(capomulin[\"Tumor Volume (mm3)\"],capomulin[\"Weight (g)\"])\n",
    "plt.title(\"Tumor Volume vs Mouse Weight\")\n",
    "plt.xlabel(\"Tumor Volume\")\n",
    "plt.ylabel(\"Weight\")\n",
    "plt.plot(capomulin[\"Tumor Volume (mm3)\"], cap_fit, \"g--\")\n",
    "plt.show()"
   ]
  }
 ],
 "metadata": {
  "anaconda-cloud": {},
  "kernelspec": {
   "display_name": "Python 3",
   "language": "python",
   "name": "python3"
  },
  "language_info": {
   "codemirror_mode": {
    "name": "ipython",
    "version": 3
   },
   "file_extension": ".py",
   "mimetype": "text/x-python",
   "name": "python",
   "nbconvert_exporter": "python",
   "pygments_lexer": "ipython3",
   "version": "3.8.8"
  }
 },
 "nbformat": 4,
 "nbformat_minor": 4
}
